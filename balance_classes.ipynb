{
 "cells": [
  {
   "cell_type": "code",
   "execution_count": 1,
   "metadata": {},
   "outputs": [],
   "source": [
    "import numpy as np\n",
    "import pandas as pd\n",
    "import matplotlib.pyplot as plt"
   ]
  },
  {
   "cell_type": "code",
   "execution_count": 2,
   "metadata": {},
   "outputs": [],
   "source": [
    "#Load images and respective labels \n",
    "train_images = np.load('data/train_images.npy',encoding = 'latin1')\n",
    "T_text = np.loadtxt('train_labels.csv', usecols=1, delimiter=',', dtype='str')\n",
    "T_text = T_text[1:]\n",
    "\n",
    "#Drop image indices\n",
    "train_images = train_images[:,1]\n",
    "X = np.zeros((10000,10000))\n",
    "for i in range(10000) : \n",
    "    X[i] = np.array(train_images[i]) \n",
    "\n",
    "T_frame = pd.DataFrame({'class': T_text})\n",
    "X_frame = pd.DataFrame(X)"
   ]
  },
  {
   "cell_type": "code",
   "execution_count": 3,
   "metadata": {
    "scrolled": false
   },
   "outputs": [
    {
     "name": "stdout",
     "output_type": "stream",
     "text": [
      "(mouth,)           571\n",
      "(pineapple,)       481\n",
      "(pool,)            479\n",
      "(octagon,)         468\n",
      "(moustache,)       463\n",
      "(rifle,)           440\n",
      "(sailboat,)        422\n",
      "(skateboard,)      420\n",
      "(nail,)            410\n",
      "(mug,)             382\n",
      "(scorpion,)        376\n",
      "(rabbit,)          369\n",
      "(apple,)           368\n",
      "(empty,)           323\n",
      "(penguin,)         321\n",
      "(paintbrush,)      314\n",
      "(rollerskates,)    293\n",
      "(skull,)           288\n",
      "(sink,)            272\n",
      "(pillow,)          268\n",
      "(shovel,)          264\n",
      "(pencil,)          252\n",
      "(rhinoceros,)      220\n",
      "(panda,)           211\n",
      "(parrot,)          206\n",
      "(nose,)            204\n",
      "(peanut,)          199\n",
      "(pear,)            188\n",
      "(screwdriver,)     182\n",
      "(spoon,)           182\n",
      "(squiggle,)        164\n",
      "dtype: int64\n"
     ]
    }
   ],
   "source": [
    "#class distribution\n",
    "\n",
    "index = pd.Index(T_frame)\n",
    "counts = index.value_counts() \n",
    "print(counts)\n",
    "\n",
    "min_count = counts.min()\n"
   ]
  },
  {
   "cell_type": "code",
   "execution_count": 4,
   "metadata": {},
   "outputs": [],
   "source": [
    "#balance data: sample each class where sample size is equal to class with minimum number of instances\n",
    "data = pd.concat( [X_frame, T_frame], axis=1 )\n",
    "g = data.groupby('class')\n",
    "\n",
    "balanced_data = g.apply(lambda x: x.sample(g.size().min()).reset_index(drop=True))"
   ]
  },
  {
   "cell_type": "code",
   "execution_count": 6,
   "metadata": {},
   "outputs": [],
   "source": [
    "T = balanced_data['class']\n",
    "X = balanced_data.drop(['class'], axis=1)\n",
    "X = X.values"
   ]
  },
  {
   "cell_type": "code",
   "execution_count": 7,
   "metadata": {},
   "outputs": [],
   "source": [
    "np.save('data/train_images_balanced.npy', X)\n",
    "T.to_csv('train_labels_balanced.csv', header=False)"
   ]
  }
 ],
 "metadata": {
  "kernelspec": {
   "display_name": "Python 3",
   "language": "python",
   "name": "python3"
  },
  "language_info": {
   "codemirror_mode": {
    "name": "ipython",
    "version": 3
   },
   "file_extension": ".py",
   "mimetype": "text/x-python",
   "name": "python",
   "nbconvert_exporter": "python",
   "pygments_lexer": "ipython3",
   "version": "3.6.5"
  }
 },
 "nbformat": 4,
 "nbformat_minor": 2
}

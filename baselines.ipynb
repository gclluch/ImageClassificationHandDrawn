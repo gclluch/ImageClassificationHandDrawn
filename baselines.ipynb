{
 "cells": [
  {
   "cell_type": "code",
   "execution_count": 1,
   "metadata": {},
   "outputs": [],
   "source": [
    "import numpy as np\n",
    "import pandas as pd\n",
    "import scipy.sparse as sp\n",
    "from sklearn.metrics import accuracy_score\n",
    "from sklearn.model_selection import train_test_split\n",
    "from sklearn.metrics import confusion_matrix, classification_report"
   ]
  },
  {
   "cell_type": "code",
   "execution_count": 2,
   "metadata": {},
   "outputs": [],
   "source": [
    "#Load images and labels\n",
    "images = np.load('data/balanced.npy',encoding = 'latin1')\n",
    "newDims = 25\n",
    "\n",
    "train_T = np.loadtxt('labels_balanced.csv', usecols=0, delimiter=',', dtype='str')\n",
    "X = images\n"
   ]
  },
  {
   "cell_type": "code",
   "execution_count": 3,
   "metadata": {},
   "outputs": [],
   "source": [
    "#train/test/valid split\n",
    "X_train, X_valid, y_train, y_valid = train_test_split(X, train_T, test_size=0.10, random_state=42)\n",
    "X_train, X_test, y_train, y_test = train_test_split(X_train, y_train, test_size=0.10, random_state=42)"
   ]
  },
  {
   "cell_type": "code",
   "execution_count": 4,
   "metadata": {},
   "outputs": [],
   "source": [
    "#Create splits for cross-validation\n",
    "from sklearn.model_selection import GridSearchCV, PredefinedSplit\n",
    "\n",
    "my_test_fold = []\n",
    "for i in range(X_train.shape[0]):\n",
    "    my_test_fold.append(-1)\n",
    "for i in range(X_valid.shape[0]):\n",
    "    my_test_fold.append(0)\n",
    "\n",
    "fold = PredefinedSplit(test_fold=my_test_fold)\n",
    "CV_split_T = np.append(y_train, y_valid)\n",
    "CV_split_X = np.vstack((X_train , X_valid))"
   ]
  },
  {
   "cell_type": "code",
   "execution_count": 5,
   "metadata": {},
   "outputs": [
    {
     "name": "stdout",
     "output_type": "stream",
     "text": [
      "Multinomial Naive Bayes : \n",
      "\n",
      "Training accuracy:  0.36992956035948504\n",
      "Test accuracy:  0.3624454148471616\n"
     ]
    }
   ],
   "source": [
    "#Multinomial Naive Bayes\n",
    "from sklearn.naive_bayes import MultinomialNB\n",
    "print('Multinomial Naive Bayes : \\n')\n",
    "\n",
    "def MNB(parameters, X, T, fold) : \n",
    "    n_folds = 5\n",
    "    mnb = MultinomialNB(fit_prior=True)\n",
    "    mnb_cv = GridSearchCV(mnb, parameters, cv=fold, scoring=\"accuracy\", refit=False)\n",
    "    mnb_cv.fit(X, T)\n",
    "    scores = mnb_cv.cv_results_['mean_test_score']\n",
    "    params = mnb_cv.cv_results_['params']\n",
    "#     print('scores:',scores)\n",
    "#    print('params:',params)\n",
    "    return mnb_cv.best_params_\n",
    "\n",
    "#search for alpha value\n",
    "def getHyperparamsMNB (values, scale) : \n",
    "    prevBest = 1000\n",
    "    while (True) : \n",
    "        param_grid = {'alpha': values}\n",
    "        bestParams = MNB(param_grid, CV_split_X, CV_split_T, fold)\n",
    "        curBest = bestParams['alpha']\n",
    "        if (abs(curBest - prevBest ) > .00001) : \n",
    "            inc = curBest/10\n",
    "            lb = curBest - inc*scale\n",
    "            ub = curBest + inc*scale\n",
    "            values = np.arange(lb, ub, inc)\n",
    "            prevBest = curBest\n",
    "        else : return curBest\n",
    "\n",
    "#predict on test set\n",
    "alphaVal = getHyperparamsMNB([ 0.0001, 0.001, 0.01, 0.1, 1, 10, 100], 5)            \n",
    "nb = MultinomialNB(alpha=alphaVal, fit_prior=True)\n",
    "nb.fit(X_train, y_train)\n",
    "#print('best alpha: ', alphaVal)\n",
    "\n",
    "#predict on train set\n",
    "y_hat_train = nb.predict(X_train)\n",
    "print('Training accuracy: ', accuracy_score(y_train, y_hat_train)  )\n",
    "\n",
    "#predict on test set\n",
    "y_hat_test = nb.predict(X_test)\n",
    "print('Test accuracy: ', accuracy_score(y_test, y_hat_test)  )"
   ]
  },
  {
   "cell_type": "code",
   "execution_count": 6,
   "metadata": {},
   "outputs": [
    {
     "name": "stdout",
     "output_type": "stream",
     "text": [
      "Linear SVM : \n",
      "\n",
      "Training accuracy:  0.532183628855963\n",
      "Test accuracy:  0.44541484716157204\n"
     ]
    }
   ],
   "source": [
    "#Linear SVM\n",
    "from sklearn.svm import LinearSVC\n",
    "print('Linear SVM : \\n')\n",
    "\n",
    "def linSVM(parameters, X, T, fold) : \n",
    "    n_folds = 5\n",
    "    svc = LinearSVC(multi_class='ovr', max_iter = 2000, dual=False)\n",
    "    svc_cv = GridSearchCV(svc, parameters, cv=fold, scoring=\"accuracy\", refit=False)\n",
    "    svc_cv.fit(X, T)\n",
    "    scores = svc_cv.cv_results_['mean_test_score']\n",
    "    params = svc_cv.cv_results_['params']\n",
    "#    print('scores:',scores)\n",
    "#    print('params:',params)\n",
    "    return svc_cv.best_params_\n",
    "\n",
    "#search for C value\n",
    "def getHyperparamsSVM (values, scale) : \n",
    "    prevBest = 1000\n",
    "    while (True) : \n",
    "        param_grid = {'C': values}\n",
    "        bestParams = linSVM(param_grid, CV_split_X, CV_split_T, fold)\n",
    "        curBest = bestParams['C']\n",
    "        if (abs(curBest - prevBest ) > .0001) : \n",
    "            inc = curBest/10\n",
    "            lb = curBest - inc*scale\n",
    "            ub = curBest + inc*scale\n",
    "            values = np.arange(lb, ub, inc)\n",
    "            prevBest = curBest\n",
    "        else : return curBest\n",
    "\n",
    "#predict on test set\n",
    "cVal = getHyperparamsSVM([ 0.0001, 0.001, 0.01, 0.1, 1, 10, 100], 5)            \n",
    "svm = LinearSVC(C=cVal, multi_class='ovr')\n",
    "svm.fit(X_train, y_train)\n",
    "#print('best C: ', cVal)\n",
    "\n",
    "#predict on train set\n",
    "y_hat_train = svm.predict(X_train)\n",
    "print('Training accuracy: ', accuracy_score(y_train, y_hat_train)  )\n",
    "\n",
    "#predict on test set\n",
    "y_hat_test = svm.predict(X_test)\n",
    "print('Test accuracy: ', accuracy_score(y_test, y_hat_test)  )"
   ]
  },
  {
   "cell_type": "code",
   "execution_count": 7,
   "metadata": {},
   "outputs": [
    {
     "name": "stdout",
     "output_type": "stream",
     "text": [
      "Logistic Regression : \n",
      "\n",
      "Training accuracy:  0.518824386689337\n",
      "Test accuracy:  0.4650655021834061\n"
     ]
    }
   ],
   "source": [
    "from sklearn.linear_model import LogisticRegression\n",
    "print('Logistic Regression : \\n')\n",
    "\n",
    "def logReg(parameters, X, T, fold) : \n",
    "    n_folds = 5\n",
    "    logreg = LogisticRegression(multi_class='ovr', dual=False)\n",
    "    logreg_cv = GridSearchCV(logreg, parameters, cv=fold, scoring=\"accuracy\", refit=False)\n",
    "    logreg_cv.fit(X, T) \n",
    "    scores = logreg_cv.cv_results_['mean_test_score']\n",
    "    params = logreg_cv.cv_results_['params']\n",
    "#    print('scores:',scores)\n",
    "#    print('params:',params)\n",
    "    return logreg_cv.best_params_\n",
    "\n",
    "#search for C value\n",
    "def getHyperparamsLogReg (values, scale) : \n",
    "    prevBest = 1000\n",
    "    while (True) : \n",
    "        param_grid = {'C': values}\n",
    "        bestParams = logReg(param_grid, CV_split_X, CV_split_T, fold)\n",
    "        curBest = bestParams['C']\n",
    "        if (abs(curBest - prevBest ) > .0001) : \n",
    "            inc = curBest/10\n",
    "            lb = curBest - inc*scale\n",
    "            ub = curBest + inc*scale\n",
    "            values = np.arange(lb, ub, inc)\n",
    "            prevBest = curBest\n",
    "        else : return curBest\n",
    "\n",
    "#predict on test set\n",
    "cVal = getHyperparamsLogReg([ 0.0001, 0.001, 0.01, 0.1, 1, 10, 100], 5)            \n",
    "logreg = LogisticRegression(C=cVal, multi_class='ovr', dual=False)\n",
    "logreg.fit(X_train, y_train)\n",
    "#print('best C: ', cVal)\n",
    "\n",
    "#predict on train set\n",
    "y_hat_train = logreg.predict(X_train)\n",
    "print('Training accuracy: ', accuracy_score(y_train, y_hat_train)  )\n",
    "\n",
    "#predict on test set\n",
    "y_hat_test = logreg.predict(X_test)\n",
    "print('Test accuracy: ', accuracy_score(y_test, y_hat_test)  )"
   ]
  }
 ],
 "metadata": {
  "kernelspec": {
   "display_name": "Python 3",
   "language": "python",
   "name": "python3"
  },
  "language_info": {
   "codemirror_mode": {
    "name": "ipython",
    "version": 3
   },
   "file_extension": ".py",
   "mimetype": "text/x-python",
   "name": "python",
   "nbconvert_exporter": "python",
   "pygments_lexer": "ipython3",
   "version": "3.6.5"
  }
 },
 "nbformat": 4,
 "nbformat_minor": 2
}

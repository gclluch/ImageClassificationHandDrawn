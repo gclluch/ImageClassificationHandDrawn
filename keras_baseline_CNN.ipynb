{
 "cells": [
  {
   "cell_type": "code",
   "execution_count": 1,
   "metadata": {},
   "outputs": [
    {
     "name": "stderr",
     "output_type": "stream",
     "text": [
      "Using TensorFlow backend.\n"
     ]
    }
   ],
   "source": [
    "import numpy as np\n",
    "import pandas as pd\n",
    "import matplotlib.pyplot as plt\n",
    "from sklearn.model_selection import train_test_split\n",
    "from sklearn.metrics import accuracy_score\n",
    "import keras\n",
    "from keras.models import Sequential, Model\n",
    "from keras.layers import Dense, Conv2D, Flatten, Activation, Dropout, MaxPooling2D, BatchNormalization, Convolution2D, Input\n",
    "from keras import regularizers\n",
    "from keras.layers.pooling import GlobalAveragePooling2D\n",
    "from keras.callbacks import ModelCheckpoint\n",
    "from keras.layers import LeakyReLU\n",
    "from sklearn import preprocessing\n",
    "\n",
    "from PIL import Image"
   ]
  },
  {
   "cell_type": "markdown",
   "metadata": {},
   "source": [
    "### Load processed images and create train/dev split"
   ]
  },
  {
   "cell_type": "code",
   "execution_count": 2,
   "metadata": {
    "scrolled": true
   },
   "outputs": [
    {
     "name": "stdout",
     "output_type": "stream",
     "text": [
      "Category:  shovel\n"
     ]
    },
    {
     "data": {
      "text/plain": [
       "<matplotlib.image.AxesImage at 0x2324e9cef28>"
      ]
     },
     "execution_count": 2,
     "metadata": {},
     "output_type": "execute_result"
    },
    {
     "data": {
      "image/png": "[encoded data removed]",
      "text/plain": [
       "<Figure size 432x288 with 1 Axes>"
      ]
     },
     "metadata": {
      "needs_background": "light"
     },
     "output_type": "display_data"
    }
   ],
   "source": [
    "#Load images and labels\n",
    "images = np.load('data/train_clean.npy',encoding = 'latin1')\n",
    "newDims = 25\n",
    "T_text = np.loadtxt('train_labels.csv', usecols=1, delimiter=',', dtype='str')\n",
    "T_text = T_text[1:]\n",
    "\n",
    "enc = preprocessing.LabelEncoder()\n",
    "T = enc.fit_transform(T_text)\n",
    "T = keras.utils.to_categorical(T)\n",
    "\n",
    "X = images.reshape(len(images), newDims, newDims)\n",
    "X = X/255\n",
    "\n",
    "print('Category: ', T_text[0])\n",
    "plt.imshow(X[0])"
   ]
  },
  {
   "cell_type": "code",
   "execution_count": 3,
   "metadata": {},
   "outputs": [],
   "source": [
    "X_train, X_valid, T_train, T_valid = train_test_split(X, T, test_size=0.20, random_state=42)\n",
    "\n",
    "X_train = X_train.reshape(len(X_train), newDims, newDims, 1)\n",
    "X_valid = X_valid.reshape(len(X_valid), newDims, newDims, 1)"
   ]
  },
  {
   "cell_type": "markdown",
   "metadata": {},
   "source": [
    "### Simple Keras CNN"
   ]
  },
  {
   "cell_type": "code",
   "execution_count": 4,
   "metadata": {},
   "outputs": [
    {
     "name": "stdout",
     "output_type": "stream",
     "text": [
      "WARNING:tensorflow:From C:\\ProgramData\\Anaconda3\\lib\\site-packages\\tensorflow\\python\\framework\\op_def_library.py:263: colocate_with (from tensorflow.python.framework.ops) is deprecated and will be removed in a future version.\n",
      "Instructions for updating:\n",
      "Colocations handled automatically by placer.\n",
      "WARNING:tensorflow:From C:\\ProgramData\\Anaconda3\\lib\\site-packages\\keras\\backend\\tensorflow_backend.py:3445: calling dropout (from tensorflow.python.ops.nn_ops) with keep_prob is deprecated and will be removed in a future version.\n",
      "Instructions for updating:\n",
      "Please use `rate` instead of `keep_prob`. Rate should be set to `rate = 1 - keep_prob`.\n"
     ]
    }
   ],
   "source": [
    "\n",
    "def createModel():    \n",
    "    model = Sequential()\n",
    "    model.add(Conv2D(32, kernel_size=3, activation='relu', padding='same', input_shape=(newDims,newDims,1)))\n",
    "    model.add(Conv2D(32, kernel_size=3, padding='same', activation='relu'))\n",
    "    model.add(MaxPooling2D(pool_size=(2, 2)))\n",
    "    model.add(BatchNormalization())\n",
    "    model.add(Dropout(rate=0.2))\n",
    "    \n",
    "    model.add(Conv2D(64, kernel_size=3, padding='same', activation='relu'))\n",
    "    model.add(Conv2D(64, kernel_size=3, padding='same', activation='relu'))\n",
    "    model.add(MaxPooling2D(pool_size=(2, 2)))\n",
    "    model.add(BatchNormalization())\n",
    "    model.add(Dropout(rate=0.3))\n",
    "    \n",
    "    model.add(Conv2D(64, kernel_size=3, padding='same', activation='relu'))\n",
    "    model.add(Conv2D(64, kernel_size=3, padding='same', activation='relu'))\n",
    "    model.add(MaxPooling2D(pool_size=(2, 2)))\n",
    "    model.add(BatchNormalization())\n",
    "    model.add(Dropout(rate=0.3))\n",
    "\n",
    "    model.add(Flatten())\n",
    "    model.add(Dense(256, activation='relu'))\n",
    "    model.add(Dropout(rate=0.7))\n",
    "    model.add(Dense(31, activation='softmax'))\n",
    "    \n",
    "    return model\n",
    "\n",
    "adam = keras.optimizers.Adam(lr=0.001, beta_1=0.9, beta_2=0.999, epsilon=None, decay=0.0, amsgrad=False)\n",
    "\n",
    "model1 = createModel()\n",
    "model1.compile(optimizer=adam , loss='categorical_crossentropy', metrics=['accuracy'])\n",
    " \n",
    "#Weight saving\n",
    "filepath1 = \"weights/weights.hdf5\"\n",
    "#model1.load_weights(\"weights.hdf5\")\n",
    "\n",
    "\n",
    "checkpoint1 = ModelCheckpoint(filepath1, monitor = 'loss', verbose = 1, save_best_only = True, mode = 'auto')\n",
    "callbacks_list1 = [checkpoint1] \n",
    "\n",
    "#Fit without Data Augmentation\n",
    "#history = model1.fit(X_train, T_train, batch_size=32, epochs=100, verbose=1, \n",
    "#   validation_data=(X_valid, T_valid), shuffle=True, callbacks = callbacks_list1)\n",
    " \n",
    "#model1.evaluate(X_valid, T_valid)\n"
   ]
  },
  {
   "cell_type": "markdown",
   "metadata": {},
   "source": [
    "### Train with data augmentation "
   ]
  },
  {
   "cell_type": "code",
   "execution_count": 7,
   "metadata": {
    "scrolled": true
   },
   "outputs": [
    {
     "name": "stdout",
     "output_type": "stream",
     "text": [
      "Epoch 1/1\n",
      "250/250 [==============================] - 2s 9ms/step - loss: 0.8504 - acc: 0.7517 - val_loss: 0.8458 - val_acc: 0.7720\n",
      "\n",
      "Epoch 00001: loss did not improve from 0.80801\n"
     ]
    }
   ],
   "source": [
    "from keras.preprocessing.image import ImageDataGenerator\n",
    "from sklearn.model_selection import StratifiedKFold\n",
    "\n",
    "batch_size = 32\n",
    "\n",
    "gen = ImageDataGenerator(horizontal_flip = True,\n",
    "                         vertical_flip = False, \n",
    "                         width_shift_range = 4,\n",
    "                         height_shift_range = 4,\n",
    "                         zoom_range = 0.01,\n",
    "                         rotation_range = 0\n",
    "                        )\n",
    "\n",
    "generator = gen.flow(X_train, T_train, batch_size = batch_size)\n",
    "\n",
    "history = model1.fit_generator(\n",
    "    generator,\n",
    "    steps_per_epoch=int(np.ceil(X_train.shape[0] / float(batch_size))),\n",
    "                epochs=1,\n",
    "                shuffle=True,\n",
    "                verbose=1,\n",
    "                validation_data = (X_valid, T_valid),\n",
    "                callbacks = callbacks_list1\n",
    ")\n"
   ]
  },
  {
   "cell_type": "code",
   "execution_count": 8,
   "metadata": {
    "scrolled": true
   },
   "outputs": [
    {
     "name": "stdout",
     "output_type": "stream",
     "text": [
      "Training Accuracy : \t 0.864\n",
      "Validation Accuracy : \t 0.772\n"
     ]
    }
   ],
   "source": [
    "T_train_pred = model1.predict(X_train)\n",
    "T_train_pred = np.argmax(T_train_pred, axis=1)\n",
    "T_train_true = np.argmax(T_train, axis=1)\n",
    "\n",
    "\n",
    "T_valid_pred = model1.predict(X_valid)\n",
    "T_valid_pred = np.argmax(T_valid_pred, axis=1)\n",
    "T_valid_true = np.argmax(T_valid, axis=1)\n",
    "\n",
    "print('Training Accuracy : \\t', accuracy_score(T_train_true, T_train_pred))\n",
    "print('Validation Accuracy : \\t', accuracy_score(T_valid_true, T_valid_pred))"
   ]
  }
 ],
 "metadata": {
  "kernelspec": {
   "display_name": "Python 3",
   "language": "python",
   "name": "python3"
  },
  "language_info": {
   "codemirror_mode": {
    "name": "ipython",
    "version": 3
   },
   "file_extension": ".py",
   "mimetype": "text/x-python",
   "name": "python",
   "nbconvert_exporter": "python",
   "pygments_lexer": "ipython3",
   "version": "3.7.1"
  }
 },
 "nbformat": 4,
 "nbformat_minor": 1
}
